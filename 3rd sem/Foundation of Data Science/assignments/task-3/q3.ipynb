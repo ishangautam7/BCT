{
 "cells": [
  {
   "cell_type": "markdown",
   "metadata": {},
   "source": [
    "3. View Central Limit Theorem (CLT) in action for a dataset: Download the dataset\n",
    "provided along with this assignment (or visit the site Student Performance\n",
    "Dataset: Academic Insights 10K) which consists of data on various\n",
    "demographics and score in different subjects for about 10000 students. For the\n",
    "columns “math_score”, “reading_score”, “writing_score”, “science_score” and\n",
    "“total_score”, plot data distribution (histograms) for each and then for random\n",
    "sample means created from each of these data distribution (CLT) increasing sample\n",
    "size in steps from 10 to 100.\n",
    "\n",
    "{\n",
    "Hint: While you load data using pandas you will notice some null values for these\n",
    "column and in particular the column “math_score” will have string datatype\n",
    "because of presence of some tab characters along with numbers, clean this data\n",
    "into numeric format consisting only of digits for example using\n",
    "pandas.Series.str.replace(r'[^\\d]', '', regex=True) and then convert to numeric and\n",
    "remove/replace null values before proceeding. You can generate sample means for each column data using the function below:\n",
    "def generate_sample_means(data, sample_size, num_samples):\n",
    "generated_samples = np.zeros(num_samples)\n",
    "for i in range(num_samples):\n",
    "\n",
    "sample = np.random.choice(data, size=sample_size, replace=True, p=None)\n",
    "\n",
    "generated_samples[i] = np.mean(sample)\n",
    "return generated_samples\n",
    "\n",
    "}"
   ]
  },
  {
   "cell_type": "code",
   "execution_count": 1,
   "metadata": {},
   "outputs": [],
   "source": [
    "import pandas as pd\n",
    "import numpy as np\n",
    "import seaborn as sns\n",
    "import matplotlib.pyplot as plt"
   ]
  },
  {
   "cell_type": "code",
   "execution_count": 6,
   "metadata": {},
   "outputs": [],
   "source": [
    "df = pd.read_csv('../../assests/Student_performance_10k.csv')"
   ]
  },
  {
   "cell_type": "code",
   "execution_count": 11,
   "metadata": {},
   "outputs": [],
   "source": [
    "columns_to_clean = ['math_score', 'reading_score', 'writing_score', 'science_score', 'total_score']\n",
    "for col in columns_to_clean:\n",
    "    df[col] = pd.to_numeric(df[col].replace(r'[^\\d]', '', regex=True), errors='coerce')\n",
    "    df[col] = df[col].fillna(df[col].mean())"
   ]
  },
  {
   "cell_type": "code",
   "execution_count": 19,
   "metadata": {},
   "outputs": [],
   "source": [
    "sample_sizes = [10, 20, 30, 40, 50, 75, 100]\n",
    "num_sample = 500"
   ]
  },
  {
   "cell_type": "code",
   "execution_count": null,
   "metadata": {},
   "outputs": [],
   "source": [
    "def gen_sample_mean(data, sample_size, num_sample, replace=True, p=None):\n",
    "    generated_samples = np.zeros(num_sample)\n",
    "    for i in range(sample_size):\n",
    "        sample = np.random.choice(data, size=sample_sizes, replace=True)\n",
    "        generated_sample[i] = np.mean(sample)\n"
   ]
  },
  {
   "cell_type": "code",
   "execution_count": null,
   "metadata": {},
   "outputs": [],
   "source": [
    "for i, col in enumerate(columns_to_clean):\n",
    "    plt.figure()\n",
    "    for i in "
   ]
  }
 ],
 "metadata": {
  "kernelspec": {
   "display_name": "Python 3",
   "language": "python",
   "name": "python3"
  },
  "language_info": {
   "codemirror_mode": {
    "name": "ipython",
    "version": 3
   },
   "file_extension": ".py",
   "mimetype": "text/x-python",
   "name": "python",
   "nbconvert_exporter": "python",
   "pygments_lexer": "ipython3",
   "version": "3.13.0"
  }
 },
 "nbformat": 4,
 "nbformat_minor": 2
}
