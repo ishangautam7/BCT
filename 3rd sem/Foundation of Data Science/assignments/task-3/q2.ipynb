{
 "cells": [
  {
   "cell_type": "markdown",
   "metadata": {},
   "source": [
    "2. View Central Limit Theorem (CLT) in action for standard distributions: For each\n",
    "probability distribution listed above plot the probability distribution (histogram plot)\n",
    "for random sample means created from that distribution increasing sample size in\n",
    "steps from 10 to 100. Show in single figure the CLT plot for each distribution using\n",
    "subplots. {\n",
    "Hint: For example to calculate mean sample means using exponential distribution\n",
    "you may do;\n",
    "sample_means = [np.mean(np.random.exponential(scale=2.0, size=sample_size))\n",
    "for _ in range(num_samples)]\n",
    "You can explore ‘kde plot’ using ‘seaborn’ library for a continuous looking\n",
    "distribution plot\n",
    "}"
   ]
  },
  {
   "cell_type": "code",
   "execution_count": 1,
   "metadata": {},
   "outputs": [],
   "source": [
    "import numpy as np\n",
    "import matplotlib.pyplot as plt\n",
    "import seaborn as sns\n"
   ]
  },
  {
   "cell_type": "code",
   "execution_count": null,
   "metadata": {},
   "outputs": [],
   "source": [
    "def plot_clt(func, params, title, sizes, sample=500):\n",
    "    plt.figure()\n",
    "    for i, sample_size in range(sample_sizes):\n"
   ]
  },
  {
   "cell_type": "code",
   "execution_count": 2,
   "metadata": {},
   "outputs": [],
   "source": [
    "sizes = [10, 20, 30, 40]"
   ]
  }
 ],
 "metadata": {
  "kernelspec": {
   "display_name": "Python 3",
   "language": "python",
   "name": "python3"
  },
  "language_info": {
   "codemirror_mode": {
    "name": "ipython",
    "version": 3
   },
   "file_extension": ".py",
   "mimetype": "text/x-python",
   "name": "python",
   "nbconvert_exporter": "python",
   "pygments_lexer": "ipython3",
   "version": "3.13.0"
  }
 },
 "nbformat": 4,
 "nbformat_minor": 2
}
