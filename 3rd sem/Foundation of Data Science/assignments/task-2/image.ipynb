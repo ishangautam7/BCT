{
 "cells": [
  {
   "cell_type": "code",
   "execution_count": 6,
   "metadata": {},
   "outputs": [],
   "source": [
    "from PIL import Image\n",
    "import numpy as np"
   ]
  },
  {
   "cell_type": "code",
   "execution_count": 7,
   "metadata": {},
   "outputs": [],
   "source": [
    "image = Image.open('../../assests/pulchowk.jpg')\n",
    "image = image.convert('RGB')\n",
    "image_array = np.array(image)"
   ]
  },
  {
   "cell_type": "code",
   "execution_count": 9,
   "metadata": {},
   "outputs": [],
   "source": [
    "grey_scale = np.mean(image_array, axis=2).astype(np.uint8)\n",
    "padded_image = np.pad(grey_scale, pad_width=1, mode='constant', constant_values=0)\n",
    "kx = np.array([[-1, -2, -1], [0, 0, 0], [1, 2, 1]])\n",
    "ky = np.array([[-1, 0, 1], [-2, 0, 2], [-1, 0, 1]])\n",
    "edges = np.zeros_like(grey_scale, dtype=np.uint8)\n",
    "for i in range (1, padded_image.shape[0] - 1):\n",
    "    for j in range(1, padded_image.shape[1]-1):\n",
    "        neighborhood = padded_image[i-1:i+2, j-1:j+2]\n",
    "        Gradx = np.sum(neighborhood * kx)\n",
    "        Grady = np.sum(neighborhood * ky)\n",
    "        edges[i-1, j-1] = abs(Gradx) + abs(Grady)\n",
    "edges = np.clip(edges, 0, 255).astype(np.uint8)\n",
    "image = Image.fromarray(edges)\n",
    "image.show()"
   ]
  }
 ],
 "metadata": {
  "kernelspec": {
   "display_name": "Python 3",
   "language": "python",
   "name": "python3"
  },
  "language_info": {
   "codemirror_mode": {
    "name": "ipython",
    "version": 3
   },
   "file_extension": ".py",
   "mimetype": "text/x-python",
   "name": "python",
   "nbconvert_exporter": "python",
   "pygments_lexer": "ipython3",
   "version": "3.13.0"
  }
 },
 "nbformat": 4,
 "nbformat_minor": 2
}
