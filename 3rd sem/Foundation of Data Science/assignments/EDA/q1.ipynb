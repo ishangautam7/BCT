{
 "cells": [
  {
   "cell_type": "code",
   "execution_count": 59,
   "metadata": {},
   "outputs": [],
   "source": [
    "import pandas as pd\n",
    "import numpy as np\n",
    "import matplotlib.pyplot as plt"
   ]
  },
  {
   "cell_type": "code",
   "execution_count": 60,
   "metadata": {},
   "outputs": [],
   "source": [
    "imdb = pd.read_csv('../../assests/imdb_rating.csv')\n",
    "netflix = pd.read_csv('../../assests/netflix_title.csv')"
   ]
  },
  {
   "cell_type": "code",
   "execution_count": 61,
   "metadata": {},
   "outputs": [
    {
     "name": "stdout",
     "output_type": "stream",
     "text": [
      "MOVIES         0\n",
      "YEAR         644\n",
      "GENRE         80\n",
      "RATING      1820\n",
      "ONE-LINE       0\n",
      "STARS          0\n",
      "VOTES       1820\n",
      "RunTime     2958\n",
      "Gross       9539\n",
      "dtype: int64\n",
      "-------------------------\n",
      "Unnamed: 0.1       0\n",
      "Unnamed: 0         0\n",
      "show_id            0\n",
      "type               0\n",
      "title              0\n",
      "director        2634\n",
      "cast             825\n",
      "country          831\n",
      "date_added        10\n",
      "rating             4\n",
      "duration           3\n",
      "listed_in          0\n",
      "description        0\n",
      "dtype: int64\n"
     ]
    }
   ],
   "source": [
    "print(imdb.isna().sum())\n",
    "print(\"-------------------------\")\n",
    "print(netflix.isna().sum())"
   ]
  },
  {
   "cell_type": "code",
   "execution_count": 62,
   "metadata": {},
   "outputs": [],
   "source": [
    "netflix.drop(columns=['show_id', 'date_added', 'cast', 'duration', 'description', 'listed_in', 'Unnamed: 0.1', 'Unnamed: 0'], inplace=True)"
   ]
  },
  {
   "cell_type": "code",
   "execution_count": 63,
   "metadata": {},
   "outputs": [],
   "source": [
    "imdb.drop(columns=['ONE-LINE', 'STARS', 'RunTime', 'Gross'], inplace=True)"
   ]
  },
  {
   "cell_type": "code",
   "execution_count": 75,
   "metadata": {},
   "outputs": [
    {
     "data": {
      "text/html": [
       "<div>\n",
       "<style scoped>\n",
       "    .dataframe tbody tr th:only-of-type {\n",
       "        vertical-align: middle;\n",
       "    }\n",
       "\n",
       "    .dataframe tbody tr th {\n",
       "        vertical-align: top;\n",
       "    }\n",
       "\n",
       "    .dataframe thead th {\n",
       "        text-align: right;\n",
       "    }\n",
       "</style>\n",
       "<table border=\"1\" class=\"dataframe\">\n",
       "  <thead>\n",
       "    <tr style=\"text-align: right;\">\n",
       "      <th></th>\n",
       "      <th>MOVIES</th>\n",
       "      <th>YEAR</th>\n",
       "      <th>GENRE</th>\n",
       "      <th>RATING</th>\n",
       "      <th>VOTES</th>\n",
       "    </tr>\n",
       "  </thead>\n",
       "  <tbody>\n",
       "    <tr>\n",
       "      <th>5449</th>\n",
       "      <td>Wednesday</td>\n",
       "      <td>(I)</td>\n",
       "      <td>NaN</td>\n",
       "      <td>NaN</td>\n",
       "      <td>NaN</td>\n",
       "    </tr>\n",
       "    <tr>\n",
       "      <th>5460</th>\n",
       "      <td>Wanderlust</td>\n",
       "      <td>(2006 TV Movie)</td>\n",
       "      <td>\\nDocumentary, History</td>\n",
       "      <td>6.6</td>\n",
       "      <td>122</td>\n",
       "    </tr>\n",
       "    <tr>\n",
       "      <th>3772</th>\n",
       "      <td>Verónica</td>\n",
       "      <td>(II) (2017)</td>\n",
       "      <td>\\nDrama, Mystery, Thriller</td>\n",
       "      <td>5.9</td>\n",
       "      <td>1,342</td>\n",
       "    </tr>\n",
       "    <tr>\n",
       "      <th>4126</th>\n",
       "      <td>Undercover</td>\n",
       "      <td>(2021– )</td>\n",
       "      <td>\\nCrime, Drama, Mystery</td>\n",
       "      <td>NaN</td>\n",
       "      <td>NaN</td>\n",
       "    </tr>\n",
       "    <tr>\n",
       "      <th>5119</th>\n",
       "      <td>Ultraman</td>\n",
       "      <td>NaN</td>\n",
       "      <td>\\nAnimation, Action, Adventure</td>\n",
       "      <td>NaN</td>\n",
       "      <td>NaN</td>\n",
       "    </tr>\n",
       "    <tr>\n",
       "      <th>...</th>\n",
       "      <td>...</td>\n",
       "      <td>...</td>\n",
       "      <td>...</td>\n",
       "      <td>...</td>\n",
       "      <td>...</td>\n",
       "    </tr>\n",
       "    <tr>\n",
       "      <th>7423</th>\n",
       "      <td>13 Reasons Why</td>\n",
       "      <td>(2017–2020)</td>\n",
       "      <td>\\nDrama, Mystery, Thriller</td>\n",
       "      <td>5.7</td>\n",
       "      <td>1,597</td>\n",
       "    </tr>\n",
       "    <tr>\n",
       "      <th>8134</th>\n",
       "      <td>13 Reasons Why</td>\n",
       "      <td>(2017–2020)</td>\n",
       "      <td>\\nDrama, Mystery, Thriller</td>\n",
       "      <td>6.2</td>\n",
       "      <td>1,619</td>\n",
       "    </tr>\n",
       "    <tr>\n",
       "      <th>7789</th>\n",
       "      <td>13 Reasons Why</td>\n",
       "      <td>(2017–2020)</td>\n",
       "      <td>\\nDrama, Mystery, Thriller</td>\n",
       "      <td>5.1</td>\n",
       "      <td>1,714</td>\n",
       "    </tr>\n",
       "    <tr>\n",
       "      <th>8196</th>\n",
       "      <td>13 Reasons Why</td>\n",
       "      <td>(2017–2020)</td>\n",
       "      <td>\\nDrama, Mystery, Thriller</td>\n",
       "      <td>6.1</td>\n",
       "      <td>1,507</td>\n",
       "    </tr>\n",
       "    <tr>\n",
       "      <th>8376</th>\n",
       "      <td>13 Reasons Why</td>\n",
       "      <td>(2017–2020)</td>\n",
       "      <td>\\nDrama, Mystery, Thriller</td>\n",
       "      <td>5.9</td>\n",
       "      <td>1,420</td>\n",
       "    </tr>\n",
       "  </tbody>\n",
       "</table>\n",
       "<p>3182 rows × 5 columns</p>\n",
       "</div>"
      ],
      "text/plain": [
       "               MOVIES             YEAR  \\\n",
       "5449        Wednesday              (I)   \n",
       "5460       Wanderlust  (2006 TV Movie)   \n",
       "3772         Verónica      (II) (2017)   \n",
       "4126       Undercover         (2021– )   \n",
       "5119         Ultraman              NaN   \n",
       "...               ...              ...   \n",
       "7423   13 Reasons Why      (2017–2020)   \n",
       "8134   13 Reasons Why      (2017–2020)   \n",
       "7789   13 Reasons Why      (2017–2020)   \n",
       "8196   13 Reasons Why      (2017–2020)   \n",
       "8376   13 Reasons Why      (2017–2020)   \n",
       "\n",
       "                                           GENRE  RATING  VOTES  \n",
       "5449                                         NaN     NaN    NaN  \n",
       "5460          \\nDocumentary, History                 6.6    122  \n",
       "3772      \\nDrama, Mystery, Thriller                 5.9  1,342  \n",
       "4126         \\nCrime, Drama, Mystery                 NaN    NaN  \n",
       "5119  \\nAnimation, Action, Adventure                 NaN    NaN  \n",
       "...                                          ...     ...    ...  \n",
       "7423      \\nDrama, Mystery, Thriller                 5.7  1,597  \n",
       "8134      \\nDrama, Mystery, Thriller                 6.2  1,619  \n",
       "7789      \\nDrama, Mystery, Thriller                 5.1  1,714  \n",
       "8196      \\nDrama, Mystery, Thriller                 6.1  1,507  \n",
       "8376      \\nDrama, Mystery, Thriller                 5.9  1,420  \n",
       "\n",
       "[3182 rows x 5 columns]"
      ]
     },
     "execution_count": 75,
     "metadata": {},
     "output_type": "execute_result"
    }
   ],
   "source": [
    "imdb[imdb.duplicated(subset=['MOVIES'])].sort_values(by='MOVIES', ascending=False)"
   ]
  },
  {
   "cell_type": "code",
   "execution_count": 53,
   "metadata": {},
   "outputs": [
    {
     "data": {
      "text/plain": [
       "5213          (1932)\n",
       "5915          (1933)\n",
       "6089          (1938)\n",
       "1373          (1941)\n",
       "5424          (1944)\n",
       "            ...     \n",
       "1645           (XII)\n",
       "5868          (XIII)\n",
       "5851    (XIV) (2017)\n",
       "5558           (XLI)\n",
       "4640         (XXIII)\n",
       "Name: YEAR, Length: 438, dtype: object"
      ]
     },
     "execution_count": 53,
     "metadata": {},
     "output_type": "execute_result"
    }
   ],
   "source": [
    "imdb_df = pd.DataFrame(imdb)\n",
    "highest_rating = imdb_df.loc[imdb_df.groupby('YEAR')['MOVIES'].idxmax()]\n",
    "highest_rating['YEAR']"
   ]
  },
  {
   "cell_type": "code",
   "execution_count": 54,
   "metadata": {},
   "outputs": [],
   "source": [
    "# netflix['MOVIES'] = netflix['title']\n",
    "# netflix.drop('title', axis=1)"
   ]
  },
  {
   "cell_type": "code",
   "execution_count": 55,
   "metadata": {},
   "outputs": [],
   "source": [
    "# imdb.merge(netflix, on='MOVIES')"
   ]
  }
 ],
 "metadata": {
  "kernelspec": {
   "display_name": "Python 3",
   "language": "python",
   "name": "python3"
  },
  "language_info": {
   "codemirror_mode": {
    "name": "ipython",
    "version": 3
   },
   "file_extension": ".py",
   "mimetype": "text/x-python",
   "name": "python",
   "nbconvert_exporter": "python",
   "pygments_lexer": "ipython3",
   "version": "3.13.0"
  }
 },
 "nbformat": 4,
 "nbformat_minor": 2
}
